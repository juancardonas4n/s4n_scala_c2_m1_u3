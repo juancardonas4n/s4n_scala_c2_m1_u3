{
 "cells": [
  {
   "cell_type": "markdown",
   "metadata": {},
   "source": [
    "# Recursividad de cola\n",
    "\n",
    "Para poder ejecutar este *notebook*, en particular con el código de tiene que ver con recursividad de cola, es necesario utilizar la anotación ```@tailrec``` pero se debe hacerlo utilizando nombres largos como se muestra a continuación:\n",
    "\n",
    "```{.scala}\n",
    "@scala.annotation.tailrec\n",
    "```\n",
    "\n",
    "## Función de `potencia`\n",
    "\n",
    "La siguiente es la conocida implementación de la función de potencia recursiva `potenciaRec`:"
   ]
  },
  {
   "cell_type": "code",
   "execution_count": null,
   "metadata": {},
   "outputs": [],
   "source": [
    "def potenciaRec(a:Double, n:Int):Double = n match {\n",
    "    case 0 => 1\n",
    "    case n => a * potenciaRec(a, n - 1)\n",
    "}\n",
    "\n",
    "potenciaRec(2,3)"
   ]
  },
  {
   "cell_type": "markdown",
   "metadata": {},
   "source": [
    "Pero, sabes que esta implementación no es la más efectiva, porque si la comparamos con la versión `potenciaIt`, que se muestra a continuación sus tiempos de ejecución no son los más deseables proporcionalmente con respecto a los tiempos de `potenciaIt`."
   ]
  },
  {
   "cell_type": "code",
   "execution_count": null,
   "metadata": {},
   "outputs": [],
   "source": [
    "def potenciaIt(a:Double, n:Int) = {\n",
    "    var i = 0\n",
    "    var res = 1.0\n",
    "    while (i < n) {\n",
    "        res *= a\n",
    "        i += 1\n",
    "    }\n",
    "    res\n",
    "}\n",
    "\n",
    "val tInicioRec = System.nanoTime\n",
    "potenciaRec(2,3)\n",
    "val totalTiempoRec = System.nanoTime - tInicioRec\n",
    "println(s\"Tiempo ejecución de potenciaRec(2,3) $totalTiempoRec\")\n",
    "val tInicioIt = System.nanoTime\n",
    "potenciaIt(2,3)\n",
    "val totalTiempoIt = System.nanoTime - tInicioIt\n",
    "println(s\"Tiempo ejecución de potenciaIt(2,3) $totalTiempoIt\")\n",
    "val tiempoPorcentual = totalTiempoRec.toDouble / totalTiempoIt.toDouble\n",
    "println(s\"incremento porcentual $tiempoPorcentual\")"
   ]
  },
  {
   "cell_type": "markdown",
   "metadata": {},
   "source": [
    "Observa que el cambio porcentual es muy alto, entre el 20% y 70% más que el tiempo de ejecución de la función iterativa, y a medida que se incrementa el valor de `n` el aumento tiende a ser más considerable.\n",
    "\n",
    "Esto es un inconveniente para las funciones recursivas, pero tenemos una manera de manejarlo a través de las  **funciones con recursividad de cola**.\n",
    "\n",
    "Recuerda que llamaremos funciones recursivas de cola a aquellas funciones que se comportan de forma recursiva, pero la recursividad es lo último que se llama dentro del cuerpo de la función (excepto en el caso base).\n",
    "\n",
    "Entonces, implementarás una función de potencia con recursividad de cola (`potenciaRecCola`):\n",
    "\n",
    "```{.scala}\n",
    "def potenciaRecCola(a:Double, n:Int):Double = ???\n",
    "```\n",
    "\n",
    "Recuerda, que al implementar esta función `potenciaRecCola` necesitas utilizar una función inmersa (auxiliar) que te ayude a computar el valor de potencia a través de un acumulador."
   ]
  },
  {
   "cell_type": "code",
   "execution_count": null,
   "metadata": {
    "solution2": "hidden",
    "solution2_first": true
   },
   "outputs": [],
   "source": [
    "def potenciaRecCola(a:Double, n:Int) = ???"
   ]
  },
  {
   "cell_type": "code",
   "execution_count": null,
   "metadata": {
    "solution2": "hidden"
   },
   "outputs": [],
   "source": [
    "def potenciaRecCola(a:Double, n:Int) = {\n",
    "    @scala.annotation.tailrec\n",
    "    def iPotenciaRecCola(a:Double, n:Int, prod:Double):Double = n match {\n",
    "        case 0 => prod\n",
    "        case n => iPotenciaRecCola(a,n-1,prod * a)\n",
    "    }\n",
    "    iPotenciaRecCola(a,n,1.0)\n",
    "}"
   ]
  },
  {
   "cell_type": "markdown",
   "metadata": {},
   "source": [
    "Una vez definida esta función (`potenciaRecCola`), implementarás una versión que compare la versión iterativa (`potenciaIt`) con esta. La función resultante la llamarás `compararRecColaIt` y tiene la siguiente firma:\n",
    "\n",
    "```{.scala}\n",
    "def compararPotenciaRecColaIt(a:Double, n:Int):Double = ???\n",
    "```\n",
    "\n",
    "Esta función se encargará de comparar el cambio porcentual entre la función `potenciaRecCola` con la versión iterativa de potencia (`potenciaIt`), muy similar a como lo hemos hecho anteriormente."
   ]
  },
  {
   "cell_type": "code",
   "execution_count": null,
   "metadata": {
    "solution2": "hidden",
    "solution2_first": true
   },
   "outputs": [],
   "source": [
    "def compararPotenciaRecColaIt(a:Double, n:Int):Double = ???"
   ]
  },
  {
   "cell_type": "code",
   "execution_count": null,
   "metadata": {
    "solution2": "hidden"
   },
   "outputs": [],
   "source": [
    "def compararPotenciaRecColaIt(a:Double, n:Int):Double = {\n",
    "    val tInicioCola = System.nanoTime\n",
    "    potenciaRecCola(a,n)\n",
    "    val tEjeRecCola = System.nanoTime - tInicioCola\n",
    "    val tInicioIt = System.nanoTime\n",
    "    potenciaIt(a,n)\n",
    "    val tEjeIt = System.nanoTime\n",
    "    tEjeRecCola.toDouble / tEjeIt.toDouble\n",
    "}"
   ]
  },
  {
   "cell_type": "markdown",
   "metadata": {},
   "source": [
    "Una vez finalizada la implementación de la función anterior realizarás diferentes comparaciones con valores de `a` y `n` distintos y obtendrás valores porcentuales diferentes. Compara lo obtenido en el [notebook anterior](https://mybinder.org/v2/gh/juancardonas4n/s4n_scala_c2_m1_u2/HEAD?filepath=notebooks%2Fnb_c2_m1_u2%2FC2_M1_U2_NB_01.ipynb).\n",
    "\n",
    "1. El porcentaje de cambio es: ¿menor o mayor?\n",
    "2. ¿Qué significa dicho cambio? ¿Es positivo o negativo?\n",
    "\n",
    "[//]: # \"TODO Hacer el feedback para que ellos lo puedan comparar\"\n",
    "\n",
    "## Función de sucesión de Fibonacci\n",
    "\n",
    "La función de [sucesión de Fibonacci](https://es.wikipedia.org/wiki/Sucesi%C3%B3n_de_Fibonacci) es un función que permite calcular el valor específico de una sucesión. Así, que para el valor `0` el valor es `0`, para el valor `1` es `1` y luego para el valor de `2` es la suma de los dos valores anteriores cuyo resultado es `1`, luego para `3` es la suma de los dos anteriores que es `2`, y así sucesivamente.\n",
    "\n",
    "Se obtendría la [sucesión de Fibonacci](https://es.wikipedia.org/wiki/Sucesi%C3%B3n_de_Fibonacci) así:\n",
    "\n",
    "```{.shell}\n",
    "0,1,1,2,3,5,8,13,21,...\n",
    "```\n",
    "\n",
    "Implementarás una versión iterativa. **Nota:** esta es una versión que no haremos más en el curso puesto que lo que queremos es hacer programación funcional utilizando todas sus ventajas. Y por lo tanto, usaremos esta implementación como una forma de medida, pero seguiremos implementando funciones puras con recursividad de cola.\n",
    "\n",
    "El siguiente código, implementa la versión iterativa de la función de fibonacci."
   ]
  },
  {
   "cell_type": "code",
   "execution_count": null,
   "metadata": {},
   "outputs": [],
   "source": [
    "def fibIt(n:Int):Int = {\n",
    "    var sum1 = 0\n",
    "    var sum2 = 1\n",
    "    var i = 0\n",
    "    while (i < n) {\n",
    "        var tmp = sum2\n",
    "        sum2 = sum1 + sum2\n",
    "        sum1 = tmp\n",
    "        i += 1\n",
    "    }\n",
    "    sum1\n",
    "}\n",
    "\n",
    "fibIt(0)\n",
    "fibIt(1)\n",
    "fibIt(2)\n",
    "fibIt(3)\n",
    "fibIt(4)\n",
    "fibIt(5)"
   ]
  },
  {
   "cell_type": "markdown",
   "metadata": {},
   "source": [
    "Ahora implementarás la función recursiva de Fibonacci llamada `fibRec` observemos que podemos partir de los casos bases que son dos: `0` y `1`, cuyos resultados son: `0` y `1`respectivamente; podemos comenzar a definir nuestra función recursiva. El caso recursivo de fibonacci recibe un `n` e invoca la función recursiva de fibonacci `n - 1` y otra invocación de fibonacci con `n - 2`, sumando los respectivos valores. Ahora, implementa la función recursiva de fibonacci (`fibRec`):"
   ]
  },
  {
   "cell_type": "code",
   "execution_count": null,
   "metadata": {
    "solution2": "hidden",
    "solution2_first": true
   },
   "outputs": [],
   "source": [
    "def fibRec(n:Int):Int = ???\n",
    "\n",
    "fibRec(0)\n",
    "fibRec(1)\n",
    "fibRec(2)\n",
    "fibRec(3)\n",
    "fibRec(4)\n",
    "fibRec(5)"
   ]
  },
  {
   "cell_type": "code",
   "execution_count": null,
   "metadata": {
    "solution2": "hidden"
   },
   "outputs": [],
   "source": [
    "def fibRec(n:Int):Int = n match {\n",
    "    case 0 => 0\n",
    "    case 1 => 1\n",
    "    case n => fibRec(n - 1) + fibRec(n - 2)\n",
    "}\n",
    "\n",
    "fibRec(0)\n",
    "fibRec(1)\n",
    "fibRec(2)\n",
    "fibRec(3)\n",
    "fibRec(4)\n",
    "fibRec(5)"
   ]
  },
  {
   "cell_type": "markdown",
   "metadata": {},
   "source": [
    "Pero, te preguntarás qué pasa con la efectividad de la función recursiva de Fibonacci con respecto a al función iterativa. Implementarás una función llamada `compararFib`, esta se encargará de comparar los tiempos de ejecución de la función `fibRec` con respecto a la función `fibIt`, y observarás el desempeño de la función recursiva con respecto a la función iterativa.\n",
    "\n",
    "Implementa la función `compararFib` con la siguiente firma:\n",
    "\n",
    "```{.scala}\n",
    "def compararFib(n:Int):Double = ???\n",
    "```\n",
    "\n",
    "Donde el valor `n` es el que se va utilizar al ejecutar ambas funciones (`fibRec` y `fibIt`), y observarás los tiempos de ejecución de cada función y encontrarás que la proporción de ganancia de la primera función con respecto a la segunda es mayor. Implementa la función y observa la diferencia de ejecución de ambas funciones, como te mostramos en la siguiente secuencia de código."
   ]
  },
  {
   "cell_type": "code",
   "execution_count": null,
   "metadata": {
    "solution2": "hidden",
    "solution2_first": true
   },
   "outputs": [],
   "source": [
    "def compararFib(n:Int):Double = ???\n",
    "\n",
    "compararFib(0)\n",
    "compararFib(1)\n",
    "compararFib(2)\n",
    "compararFib(3)\n",
    "compararFib(4)\n",
    "compararFib(5)"
   ]
  },
  {
   "cell_type": "code",
   "execution_count": null,
   "metadata": {
    "solution2": "hidden"
   },
   "outputs": [],
   "source": [
    "def compararFib(n:Int):Double = {\n",
    "    val tInicioRec = System.nanoTime\n",
    "    fibRec(n)\n",
    "    val totalTiempoRec = System.nanoTime - tInicioRec\n",
    "    val tInicioIt = System.nanoTime\n",
    "    fibIt(n)\n",
    "    val totalTiempoIt = System.nanoTime - tInicioIt\n",
    "    totalTiempoRec.toDouble / totalTiempoIt.toDouble\n",
    "}\n",
    "\n",
    "compararFib(0)\n",
    "compararFib(1)\n",
    "compararFib(2)\n",
    "compararFib(3)\n",
    "compararFib(4)\n",
    "compararFib(5)"
   ]
  },
  {
   "cell_type": "markdown",
   "metadata": {},
   "source": [
    "Al ver las diferentes ejecuciones de `compararFib` observarás que la función implementada de forma recursiva es muy costosa con respecto al tiempo y al espacio de memoria, pero no nos preocuparemos de ello por el momento.\n",
    "\n",
    "Buscarás mejorar estos tiempos utilizando la técnica de la recursividad de cola. \n",
    "\n",
    "La firma de la función de fibonacci con recursividad de cola `fibRecCola` es la siguiente:\n",
    "\n",
    "```{.scala}\n",
    "def fibRecCola(n:Int):Int = ???\n",
    "```\n",
    "\n",
    "Pero esta función requiere de una función inmersa, normalmente las funciones inmersas requieren llevar un acumulador, en este caso si observas como funciona la función iterativa de Fibonacci encontrarás que los valores de `suma1` y `suma2`, son formas de acumuladores.\n",
    "\n",
    "Estos acumuladores los puedes manejar a través de [tuplas en Scala](https://docs.scala-lang.org/tour/tuples.html). En este caso el primer elemento es la `suma1` y el segundo elemento es la `suma2` y cuando se llega al caso base se retorna la `suma1` y en la parte recursiva se suman los valores de la tupla. La función inmersa llevará como primer parámetro el valor de `n` y como segundo parámetro la tupla con ambos acumuladores:\n",
    "\n",
    "```{.scala}\n",
    "def iFibRecCola(n:Int, t:(Int,Int)):Int = ???\n",
    "```\n",
    "\n",
    "Ahora procede a implementar la función `fibRecCola` utilizando la función inmersa `iFibRecCola`."
   ]
  },
  {
   "cell_type": "code",
   "execution_count": null,
   "metadata": {
    "solution2": "hidden",
    "solution2_first": true
   },
   "outputs": [],
   "source": [
    "def fibRecCola(n:Int):Int = ???\n",
    "\n",
    "fibRecCola(0)\n",
    "fibRecCola(1)\n",
    "fibRecCola(2)\n",
    "fibRecCola(3)\n",
    "fibRecCola(4)\n",
    "fibRecCola(5)"
   ]
  },
  {
   "cell_type": "code",
   "execution_count": null,
   "metadata": {
    "solution2": "hidden"
   },
   "outputs": [],
   "source": [
    "def fibRecCola(n:Int):Int = {\n",
    "    @scala.annotation.tailrec\n",
    "    def iFibRecCola(n:Int,t:(Int,Int)):Int = n match {\n",
    "        case 0 => t._1\n",
    "        case 1 => t._2\n",
    "        case n => iFibRecCola(n-1,(t._2, t._1 + t._2))\n",
    "    }\n",
    "    iFibRecCola(n,(0,1))\n",
    "}\n",
    "\n",
    "fibRecCola(0)\n",
    "fibRecCola(1)\n",
    "fibRecCola(2)\n",
    "fibRecCola(3)\n",
    "fibRecCola(4)\n",
    "fibRecCola(5)"
   ]
  },
  {
   "cell_type": "markdown",
   "metadata": {},
   "source": [
    "Ahora implementa una función `compararFib2`, donde compararás los tiempos de ejecución entre las funciones `fibRecCola` y `fibIt`."
   ]
  },
  {
   "cell_type": "code",
   "execution_count": null,
   "metadata": {
    "solution2": "hidden",
    "solution2_first": true
   },
   "outputs": [],
   "source": [
    "def compararFib2(n:Int):Double = ???\n",
    "\n",
    "compararFib2(0)\n",
    "compararFib2(1)\n",
    "compararFib2(2)\n",
    "compararFib2(3)\n",
    "compararFib2(4)\n",
    "compararFib2(5)"
   ]
  },
  {
   "cell_type": "code",
   "execution_count": null,
   "metadata": {
    "solution2": "hidden"
   },
   "outputs": [],
   "source": [
    "def compararFib2(n:Int):Double = {\n",
    "    val tInicioRec = System.nanoTime\n",
    "    fibRecCola(n)\n",
    "    val totalTiempoRec = System.nanoTime - tInicioRec\n",
    "    val tInicioIt = System.nanoTime\n",
    "    fibIt(n)\n",
    "    val totalTiempoIt = System.nanoTime - tInicioIt\n",
    "    totalTiempoRec.toDouble / totalTiempoIt.toDouble    \n",
    "} \n",
    "\n",
    "compararFib2(0)\n",
    "compararFib2(1)\n",
    "compararFib2(2)\n",
    "compararFib2(3)\n",
    "compararFib2(4)\n",
    "compararFib2(5)"
   ]
  },
  {
   "cell_type": "markdown",
   "metadata": {},
   "source": [
    "Ahora que has construido el comparador, responde:\n",
    "\n",
    "1. ¿Cuál de las funciones (`fibRec` y `fibRecCola`) tiene un comportamiento con respecto al tiempo de ejecución más cercano al tiempo de ejecución de la función iterativa?\n",
    "2. ¿La función con recursividad de cola es tan compacta y directa como la función recursiva original?\n",
    "\n",
    "[//]: # \"TODO añadir el plugin\""
   ]
  }
 ],
 "metadata": {
  "kernelspec": {
   "display_name": "Scala",
   "language": "scala",
   "name": "scala"
  },
  "language_info": {
   "codemirror_mode": "text/x-scala",
   "file_extension": ".sc",
   "mimetype": "text/x-scala",
   "name": "scala",
   "nbconvert_exporter": "script",
   "version": "2.13.3"
  }
 },
 "nbformat": 4,
 "nbformat_minor": 4
}
