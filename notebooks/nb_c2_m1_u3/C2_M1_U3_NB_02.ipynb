{
 "cells": [
  {
   "cell_type": "markdown",
   "metadata": {},
   "source": [
    "# Ejercicios de recursividad de cola\n",
    "\n",
    "## Ejercicio 1: `factorial`\n",
    "\n",
    "Implementa la función de `factorial` de forma que la original que tenemos aquí sea reescrita complemente con recursividad de cola."
   ]
  },
  {
   "cell_type": "code",
   "execution_count": null,
   "metadata": {},
   "outputs": [],
   "source": [
    "def factorial(n:Int):Int = n match {\n",
    "    case 0 => 1\n",
    "    case n => n * factorial(n - 1)\n",
    "}"
   ]
  },
  {
   "cell_type": "markdown",
   "metadata": {},
   "source": [
    "### Solución \n",
    "\n",
    "[Solución ejercicio 1. (`factorial`)](https://youtu.be/xaQqLZ6XdA0?t=65)\n",
    "\n",
    "[//]: # \"TODO: La solución solo debe aparecer si ellos hicieron algo, revisar plugins\"\n",
    "\n",
    "## Ejercicio 2:  `sumRec`\n",
    "\n",
    "Implementar la función de `sumRec` de forma que la original que tenemos aquí sea reescrita completamente con recursividad de cola."
   ]
  },
  {
   "cell_type": "code",
   "execution_count": null,
   "metadata": {},
   "outputs": [],
   "source": [
    "def incr(n:Int) = n + 1\n",
    "def decr(n:Int) = n - 1\n",
    "\n",
    "def sumRec(a:Int,b:Int):Int = (a,b) match {\n",
    "    case (a,0) => a\n",
    "    case (0,b) => b\n",
    "    case (a,b) => sumRec(incr(a),decr(b))\n",
    "}\n",
    "\n",
    "sumRec(10,11)"
   ]
  },
  {
   "cell_type": "markdown",
   "metadata": {},
   "source": [
    "### Solución\n",
    "\n",
    "[Solución ejercicio 2. `sumRec`](https://youtu.be/xaQqLZ6XdA0?t=162)\n",
    "\n",
    "[//]: # \"TODO: La solución solo debe aparecer si ellos hicieron algo, revisar plugins\"\n",
    "\n",
    "## Ejercicio 3: `int2StringBase`\n",
    "\n",
    "Reescriba la siguiente funcion `int2StringBase` de forma que la nueva versión tenga recursividad de cola"
   ]
  },
  {
   "cell_type": "code",
   "execution_count": null,
   "metadata": {},
   "outputs": [],
   "source": [
    "import scala.math._\n",
    "def int2String(i:Int):List[Char] = {\n",
    "  def iInt2String(i:Int):List[Char] = {\n",
    "    if (i != 0) {\n",
    "      val d = i % 10\n",
    "      val c = (d + '0').toChar\n",
    "      iInt2String(i / 10) :+ c\n",
    "    }\n",
    "    else List()\n",
    "  }\n",
    "  if (i == 0) List('0')\n",
    "  else if (i < 0) '-' +: iInt2String(abs(i))\n",
    "  else iInt2String(i)\n",
    "}"
   ]
  },
  {
   "cell_type": "markdown",
   "metadata": {},
   "source": [
    "### Solución\n",
    "\n",
    "[Solución ejercicio 3. `int2String`](https://youtu.be/xaQqLZ6XdA0?t=236)\n",
    "\n",
    "[//]: # \"TODO: La solución solo debe aparecer si ellos hicieron algo, revisar plugins\"\n",
    "\n",
    "## Ejercicio 4: `sumList`\n",
    "\n",
    "La siguiente implementación de `sumList` no tiene recursividad de cola, reescriba dicha función de forma que la nueva implementación tenga recursividad de cola."
   ]
  },
  {
   "cell_type": "code",
   "execution_count": null,
   "metadata": {},
   "outputs": [],
   "source": [
    "def sumList(lst:List[Int]):Int = {\n",
    "    if (lst.isEmpty) 0\n",
    "    else lst.head + sumList(lst.tail)\n",
    "}"
   ]
  },
  {
   "cell_type": "markdown",
   "metadata": {},
   "source": [
    "### Solución\n",
    "\n",
    "[Solución ejercicio 4. `sumList`](https://youtu.be/xaQqLZ6XdA0?t=323)\n",
    "\n",
    "[//]: # \"TODO: La solución solo debe aparecer si ellos hicieron algo, revisar plugins\""
   ]
  }
 ],
 "metadata": {
  "kernelspec": {
   "display_name": "Scala",
   "language": "scala",
   "name": "scala"
  },
  "language_info": {
   "codemirror_mode": "text/x-scala",
   "file_extension": ".sc",
   "mimetype": "text/x-scala",
   "name": "scala",
   "nbconvert_exporter": "script",
   "version": "2.13.3"
  }
 },
 "nbformat": 4,
 "nbformat_minor": 4
}
